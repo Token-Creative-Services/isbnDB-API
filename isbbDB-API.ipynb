{
  "nbformat": 4,
  "nbformat_minor": 0,
  "metadata": {
    "colab": {
      "name": "Google Scraper.ipynb",
      "provenance": [],
      "authorship_tag": "ABX9TyMQ++NktEP9egx0zBv1zcGi",
      "include_colab_link": true
    },
    "kernelspec": {
      "name": "python3",
      "display_name": "Python 3"
    }
  },
  "cells": [
    {
      "cell_type": "markdown",
      "metadata": {
        "id": "view-in-github",
        "colab_type": "text"
      },
      "source": [
        "<a href=\"https://colab.research.google.com/github/Token-Creative-Services/isbnDB-API/blob/main/isbbDB-API.ipynb\" target=\"_parent\"><img src=\"https://colab.research.google.com/assets/colab-badge.svg\" alt=\"Open In Colab\"/></a>"
      ]
    },
    {
      "cell_type": "markdown",
      "metadata": {
        "id": "cvDpPJ5TEY73"
      },
      "source": [
        "# Overview"
      ]
    },
    {
      "cell_type": "markdown",
      "metadata": {
        "id": "IOe_5-MIBgKF"
      },
      "source": [
        "**Google Scrape Tool**\n",
        "\n",
        "This tool allows for the entry of a keyword, and based on that, provide the top search results that appear in Google for said-keyword. To run the app:\n",
        "1. In the **variables** section provide all the values for what you want to enter\n",
        "2. In the nav menu select Runtime > Run all\n",
        "\n",
        "Created by Token Creative services https://tokencs.ca\n",
        "\n",
        "Date: June 14th, 2020"
      ]
    },
    {
      "cell_type": "markdown",
      "metadata": {
        "id": "aQFmmGIWEnKS"
      },
      "source": [
        "# App"
      ]
    },
    {
      "cell_type": "markdown",
      "metadata": {
        "id": "hWI1nbTaCtvJ"
      },
      "source": [
        "**Variables**\n",
        "\n",
        "In this section, define each of the variables that you can run the script with.\n"
      ]
    },
    {
      "cell_type": "code",
      "metadata": {
        "id": "sUTGMW5ECJrt"
      },
      "source": [
        "keyword = \"digital marketing toronto\"; #keyword to search for\n",
        "device = \"desktop\"; #Device type, desktop or mobile\n",
        "country = \"CA\"; #Country CA or US\n",
        "language = \"en\"; #Language\n",
        "location = \"Toronto,Ontario,Canada\"; #Location by City,Provice,Country\n",
        "startAt = \"4\"; #What search result # to start at\n",
        "results = \"16\"; #How many results are wanted back"
      ],
      "execution_count": null,
      "outputs": []
    },
    {
      "cell_type": "markdown",
      "metadata": {
        "id": "6DtKCa0EDZTq"
      },
      "source": [
        "Here we import python modules and run the query via the API"
      ]
    },
    {
      "cell_type": "code",
      "metadata": {
        "id": "BJA3ISmZCCSO"
      },
      "source": [
        "import requests\n",
        "import json\n",
        "\n",
        "headers = { 'apikey': 'eaac64d0-ae5f-11ea-bb10-7fb296535bbd' } ##Token API key from https://zenserp.com/\n",
        "\n",
        "##To test all possible params see https://zenserp.com/playground\n",
        "##Login in 1Pass\n",
        "params = (\n",
        "  (\"q\",keyword), \n",
        "   (\"device\",device), \n",
        "   (\"gl\",country), \n",
        "   (\"hl\",language), \n",
        "   (\"location\",location), \n",
        "   (\"start\",startAt), \n",
        "   (\"num\",results), \n",
        ");\n",
        "\n",
        "response = requests.get('https://app.zenserp.com/api/v2/search', headers=headers, params=params);\n",
        "\n",
        "##Print result code. 200 = OK; 403=bad API key or not enough requests; 500 = server failure\n",
        "json_response = response.json();\n",
        "##Different available components of our response object\n",
        "##print(json_response[\"organic\"])\n",
        "##print(json_response[\"paid\"])\n",
        "##print(json_response[\"related_searches\"])\n",
        "##print(json_response[\"query\"])\n",
        "\n",
        "json_string = json.dumps(json_response[\"organic\"],indent=4)\n",
        "print(json_string)"
      ],
      "execution_count": null,
      "outputs": []
    },
    {
      "cell_type": "markdown",
      "metadata": {
        "id": "yByXG0lXEsT4"
      },
      "source": [
        "# Remaining Requests"
      ]
    },
    {
      "cell_type": "markdown",
      "metadata": {
        "id": "aw_G4hVcNomJ"
      },
      "source": [
        "**How Many Requests Do We Have Left?**\n",
        "\n",
        "Run this code snippet if you want to determine how many requests our API key w/ ZenSerp has left. The default is 50/month, and will reset at the end of each month. https://zenserp.com/documentation"
      ]
    },
    {
      "cell_type": "code",
      "metadata": {
        "id": "Ksdnr1d-P19E",
        "colab": {
          "base_uri": "https://localhost:8080/",
          "height": 34
        },
        "outputId": "80eb3ac8-fd6e-4d39-d527-bf4b2dd5c3b4"
      },
      "source": [
        "import requests\n",
        "headers = { 'apikey': 'eaac64d0-ae5f-11ea-bb10-7fb296535bbd' }\n",
        "params = (\n",
        ");\n",
        "response = requests.get('https://app.zenserp.com/api/v2/status', headers=headers, params=params);\n",
        "print(response.text);"
      ],
      "execution_count": null,
      "outputs": [
        {
          "output_type": "stream",
          "text": [
            "{\"remaining_requests\":\"37\"}\n"
          ],
          "name": "stdout"
        }
      ]
    }
  ]
}